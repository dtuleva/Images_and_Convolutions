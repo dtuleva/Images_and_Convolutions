{
  "cells": [
    {
      "cell_type": "markdown",
      "metadata": {
        "id": "view-in-github",
        "colab_type": "text"
      },
      "source": [
        "<a href=\"https://colab.research.google.com/github/dtuleva/Images_and_Convolutions/blob/main/Images_and_Convolutions_part_2_CNNs.ipynb\" target=\"_parent\"><img src=\"https://colab.research.google.com/assets/colab-badge.svg\" alt=\"Open In Colab\"/></a>"
      ]
    },
    {
      "cell_type": "code",
      "execution_count": 36,
      "metadata": {
        "id": "qOWXywQAxQf0"
      },
      "outputs": [],
      "source": [
        "import matplotlib.pyplot as plt\n",
        "import numpy as np\n",
        "import pandas as pd\n",
        "import tensorflow as tf\n",
        "\n",
        "from matplotlib.colors import TwoSlopeNorm\n",
        "from tensorflow.keras.datasets import mnist\n",
        "from tensorflow.keras import layers, models\n",
        "from scipy.ndimage import convolve"
      ]
    },
    {
      "cell_type": "code",
      "execution_count": 2,
      "metadata": {
        "id": "ws_bOW6GxQf1"
      },
      "outputs": [],
      "source": [
        "# import helper_functions"
      ]
    },
    {
      "cell_type": "markdown",
      "metadata": {
        "id": "z9J89MeAxQf1"
      },
      "source": [
        "# Images and Convolutions\n",
        "### The simple, complex and convoluted notions behind computer vision\n",
        "## Part 2 - Convolutional neural networks"
      ]
    },
    {
      "cell_type": "markdown",
      "metadata": {
        "id": "MC22bK02xQf2"
      },
      "source": [
        "#### Helper functions"
      ]
    },
    {
      "cell_type": "code",
      "execution_count": 3,
      "metadata": {
        "id": "vKRjzsK8xQf3"
      },
      "outputs": [],
      "source": [
        "def plot_image_subplots(\n",
        "        images,\n",
        "        titles=None,\n",
        "        subplot_kwargs=None,\n",
        "        nrows=1,\n",
        "        ncols=3,\n",
        "        figsize_hor=12,\n",
        "        figsize_ver=6,\n",
        "        no_ticks=True\n",
        "    ):\n",
        "    \"\"\"\n",
        "    Plots a grid of images with titles, allowing for different keyword arguments for each subplot.\n",
        "\n",
        "    Example usage:\n",
        "    plot_image_subplots(\n",
        "        images=[image_1, image_2, image_3],\n",
        "        titles=[\"Title 1\", \"Title 2\", \"Title 3\"],\n",
        "        plot_kwargs=[\n",
        "            {\"cmap\": \"gray\"},\n",
        "            {\"cmap\": \"Reds_r\", \"vmin\": 0, \"vmax\": 1},\n",
        "            {\"cmap\": \"Blues_r\", \"vmin\": -1, \"vmax\": 1}\n",
        "        ],\n",
        "        nrows=1,\n",
        "        ncols=3,\n",
        "        figsize_hor=15,\n",
        "        figsize_ver=5\n",
        "    )\n",
        "    \"\"\"\n",
        "    if titles is None:\n",
        "        titles = [\"\" for _ in images]\n",
        "    else:\n",
        "        assert len(images) == len(titles), \"Number of images not equal to number of titles\"\n",
        "\n",
        "    if subplot_kwargs is None:\n",
        "        subplot_kwargs = [{} for _ in images]\n",
        "    else:\n",
        "        assert len(images) == len(subplot_kwargs), \"Number of images not equal to number of plot_kwargs\"\n",
        "\n",
        "    for kwargs in subplot_kwargs:\n",
        "        if \"cmap\" not in kwargs:\n",
        "            kwargs[\"cmap\"] = \"gray\"\n",
        "\n",
        "    fig, axs = plt.subplots(nrows, ncols, figsize=(figsize_hor, figsize_ver))\n",
        "    axs = axs.flatten()\n",
        "\n",
        "    for i, (image, title) in enumerate(zip(images, titles)):\n",
        "        axs[i].imshow(image, **subplot_kwargs[i])\n",
        "        axs[i].set_title(title)\n",
        "\n",
        "    if no_ticks:\n",
        "        plt.setp(axs, xticks=[], yticks=[])\n",
        "\n",
        "    plt.tight_layout()\n",
        "    plt.show()\n"
      ]
    },
    {
      "cell_type": "code",
      "execution_count": 4,
      "metadata": {
        "id": "RsL_as53xQf3"
      },
      "outputs": [],
      "source": [
        "\n",
        "def limit_range(pixel_value, min_value = 0, max_value = 1):\n",
        "    \"\"\"\n",
        "    Function to keep the range of pixel values; (0, 1) by default\n",
        "    \"\"\"\n",
        "    if pixel_value < min_value:\n",
        "        pixel_value = min_value\n",
        "    elif pixel_value > max_value:\n",
        "        pixel_value = max_value\n",
        "    return pixel_value\n",
        "\n",
        "limit_range = np.vectorize(limit_range)"
      ]
    },
    {
      "cell_type": "code",
      "execution_count": 5,
      "metadata": {
        "id": "XPl5ZxplxQf4"
      },
      "outputs": [],
      "source": [
        "def convolve_3_channel_image(image, filter):\n",
        "    \"\"\"\n",
        "    Applies scipy.ndimage.convolve(image_channel, filter) separately on each channel of the image and\n",
        "    returns the resulting convolutions stacked to resemble a color image.\n",
        "    \"\"\"\n",
        "    return np.dstack([convolve(image[:, :, i], filter) for i in range(3)])"
      ]
    },
    {
      "cell_type": "code",
      "execution_count": 6,
      "metadata": {
        "id": "hJEMJP81xQf4"
      },
      "outputs": [],
      "source": [
        "def plot_convolutions(image, filters, titles = None, subplot_kwargs = None, single_channel = True, **plot_kwargs):\n",
        "    \"\"\"\n",
        "    Plot images resulting from convolution with given filters.\n",
        "    \"\"\"\n",
        "    if single_channel:\n",
        "        conv_results = [convolve(image, filter) for filter in filters]\n",
        "    else:\n",
        "        conv_results = [convolve_3_channel_image(image, filter) for filter in filters]\n",
        "\n",
        "\n",
        "    plot_image_subplots(conv_results, titles, subplot_kwargs, **plot_kwargs)"
      ]
    },
    {
      "cell_type": "code",
      "execution_count": 7,
      "metadata": {
        "id": "fCMIrFl6xQf4"
      },
      "outputs": [],
      "source": [
        "def plot_heatmaps(arrays, titles = None, nrows = 1, ncols = 2, figsize_hor = 12, figsize_ver = 3, cmap_limit = 0.1):\n",
        "    \"\"\"\n",
        "    Plots a heatmap of each array with a common colorbar.\n",
        "    Heatmaps are zero-centered, blue indicating negative values, red - positive.\n",
        "\n",
        "    \"\"\"\n",
        "    if titles is None:\n",
        "        titles = [\"\" for _ in arrays]\n",
        "    else:\n",
        "        assert len(arrays) == len(titles), \"Number of arrays not equal to number of titles\"\n",
        "\n",
        "    # Create the figure and axes\n",
        "    fig, axs = plt.subplots(nrows, ncols, figsize = (figsize_hor, figsize_ver), layout = \"compressed\")\n",
        "    if len(arrays) > 1:\n",
        "        axs = axs.flatten()\n",
        "    else:\n",
        "        axs = [axs]\n",
        "\n",
        "    # Find the global min and max values across all data for common scaling\n",
        "    global_min = min(data.min() for data in arrays)\n",
        "    global_max = max(data.max() for data in arrays)\n",
        "\n",
        "    global_abs = max([abs(global_min), global_max])\n",
        "\n",
        "    # Create a common normalization\n",
        "    norm = TwoSlopeNorm(vmin = - cmap_limit - global_abs, vmax = cmap_limit + global_abs, vcenter = 0)\n",
        "\n",
        "    # Plot each data array\n",
        "    for ax, array, title in zip(axs, arrays, titles):\n",
        "        cax = ax.imshow(array, cmap = \"seismic\", norm = norm)\n",
        "        ax.set_title(title)\n",
        "\n",
        "    # Add a single colorbar\n",
        "    cbar = fig.colorbar(cax, ax=axs[:len(arrays)])\n",
        "\n",
        "    # Remove axis ticks\n",
        "    plt.setp(axs, xticks=[], yticks=[])\n",
        "\n",
        "\n",
        "    plt.show()\n"
      ]
    },
    {
      "cell_type": "markdown",
      "metadata": {
        "id": "sCR3VCzPxQf5"
      },
      "source": [
        "Our cat ir rather unfit for the purpose of demonstrating how convolutional neural networks work. That is we would need vastly greater number of cats to make it work. Further more, recognizing a cat is a hard task - there are a lot of other things with eyes, nose and fur, so we would need wide and deep neural network and a lot of images, time, knowledge and skill to train it (and we have neither of those). So we will take the simplest image dataset in existense - MNIST, which happens to be readily available in Tensorflow Datasets. It consists of small grayscale images of handwritten digits, annotated which digit it is supposed to be.\n",
        "We load our dataset, normalize pixel values and add an extra dimension to the images, because expected shape for an image is (width, height, channels)."
      ]
    },
    {
      "cell_type": "code",
      "execution_count": 8,
      "metadata": {
        "id": "E6Y7vxmRxQf5"
      },
      "outputs": [],
      "source": [
        "# Load and preprocess the MNIST dataset\n",
        "(train_images, train_labels), (test_images, test_labels) = mnist.load_data()\n",
        "\n",
        "# Normalize the images to the range [0, 1]\n",
        "train_images = train_images / 255.0\n",
        "test_images = test_images / 255.0\n",
        "\n",
        "# Add a channels dimension\n",
        "train_images = train_images[..., tf.newaxis]\n",
        "test_images = test_images[..., tf.newaxis]\n"
      ]
    },
    {
      "cell_type": "markdown",
      "source": [
        "Let's take a look at our dataset:"
      ],
      "metadata": {
        "id": "oMkjwWOm4ZQ4"
      }
    },
    {
      "cell_type": "code",
      "execution_count": 9,
      "metadata": {
        "colab": {
          "base_uri": "https://localhost:8080/"
        },
        "id": "oKdCw_23xQf6",
        "outputId": "0e9922f0-4f96-491d-9a78-3722892c010c"
      },
      "outputs": [
        {
          "output_type": "execute_result",
          "data": {
            "text/plain": [
              "(60000, 28, 28, 1)"
            ]
          },
          "metadata": {},
          "execution_count": 9
        }
      ],
      "source": [
        "train_images.shape"
      ]
    },
    {
      "cell_type": "code",
      "source": [
        "n_images = 8\n",
        "plot_image_subplots(train_images[:n_images], titles=train_labels[:n_images], ncols = n_images, nrows = 1)"
      ],
      "metadata": {
        "colab": {
          "base_uri": "https://localhost:8080/",
          "height": 192
        },
        "id": "zHMGSORcyRrC",
        "outputId": "38485bba-6924-4472-f534-8f5dd0ee93a0"
      },
      "execution_count": 10,
      "outputs": [
        {
          "output_type": "display_data",
          "data": {
            "text/plain": [
              "<Figure size 1200x600 with 8 Axes>"
            ],
            "image/png": "[encoded data removed]"
          },
          "metadata": {}
        }
      ]
    },
    {
      "cell_type": "markdown",
      "source": [
        "To make our task even more simple we make it a binary one - we will train a model to predict weather the digit is `8` or not. That means we need to convert our labels - 1 for \"yes, this is an image of the digit eight\" and 0 for \"no, it is not an eight\"."
      ],
      "metadata": {
        "id": "fcemuVPl5iqw"
      }
    },
    {
      "cell_type": "code",
      "execution_count": 11,
      "metadata": {
        "id": "yjBqeXINxQf7"
      },
      "outputs": [],
      "source": [
        "# Convert labels to binary: 1 for class '8', 0 for others\n",
        "train_labels_bin = (train_labels == 8).astype(int)\n",
        "test_labels_bin = (test_labels == 8).astype(int)"
      ]
    },
    {
      "cell_type": "markdown",
      "source": [
        "We define our convolutional model - as simple as possible - a sequential model with fixed input shape, convolutional layer with single kernel, layer for reshaping into 1d array and final dense layer with sigmoid activation. This essentially is logistic regression over the flattened convolution output - not even an actual neural network."
      ],
      "metadata": {
        "id": "rVXgEAav8N0w"
      }
    },
    {
      "cell_type": "code",
      "execution_count": 12,
      "metadata": {
        "id": "vjTRzCl9xQf7"
      },
      "outputs": [],
      "source": [
        "# Define the convolutional model\n",
        "conv_model = models.Sequential([\n",
        "    layers.InputLayer((28, 28, 1)), # Input layer with the shape of our images\n",
        "    layers.Conv2D(1, (3, 3)), # Single convolutional layer with one 3 x 3 filter\n",
        "    layers.Flatten(),\n",
        "    layers.Dense(1, activation='sigmoid')  # Single output neuron for binary classification\n",
        "])\n"
      ]
    },
    {
      "cell_type": "code",
      "source": [
        "conv_model.summary()"
      ],
      "metadata": {
        "colab": {
          "base_uri": "https://localhost:8080/"
        },
        "id": "6CJsLu5iE2lY",
        "outputId": "b666fdce-5305-495c-bf22-6d0a7758d9e6"
      },
      "execution_count": 13,
      "outputs": [
        {
          "output_type": "stream",
          "name": "stdout",
          "text": [
            "Model: \"sequential\"\n",
            "_________________________________________________________________\n",
            " Layer (type)                Output Shape              Param #   \n",
            "=================================================================\n",
            " conv2d (Conv2D)             (None, 26, 26, 1)         10        \n",
            "                                                                 \n",
            " flatten (Flatten)           (None, 676)               0         \n",
            "                                                                 \n",
            " dense (Dense)               (None, 1)                 677       \n",
            "                                                                 \n",
            "=================================================================\n",
            "Total params: 687 (2.68 KB)\n",
            "Trainable params: 687 (2.68 KB)\n",
            "Non-trainable params: 0 (0.00 Byte)\n",
            "_________________________________________________________________\n"
          ]
        }
      ]
    },
    {
      "cell_type": "markdown",
      "source": [
        "We have 10 parameters in our convolutional layer - 3 x 3 - 9 values in the kernel and a bias term."
      ],
      "metadata": {
        "id": "juDWGkW2FCY4"
      }
    },
    {
      "cell_type": "markdown",
      "source": [
        "We compile the model with the basics, just add precision and recall since we turned our dataset in an unballanced one - there are far less eights than other digits combined."
      ],
      "metadata": {
        "id": "fN9i50Kn-wJd"
      }
    },
    {
      "cell_type": "code",
      "source": [
        "# Compile the model\n",
        "conv_model.compile(optimizer=\"sgd\",\n",
        "              loss=\"binary_crossentropy\",\n",
        "              metrics=[\"accuracy\", 'Precision', 'Recall']) # ffff, with CAPITAL letter, why ..."
      ],
      "metadata": {
        "id": "e8d_w3A5_UZA"
      },
      "execution_count": 14,
      "outputs": []
    },
    {
      "cell_type": "markdown",
      "source": [
        "And train the model on the train images with binary labels for a single epoch:"
      ],
      "metadata": {
        "id": "IiXoc9DMB502"
      }
    },
    {
      "cell_type": "code",
      "source": [
        "# Train the model\n",
        "conv_history = conv_model.fit(train_images, train_labels_bin, epochs=1)\n",
        "\n"
      ],
      "metadata": {
        "colab": {
          "base_uri": "https://localhost:8080/"
        },
        "id": "Dp4_ViML-lhI",
        "outputId": "726316a9-ebba-44b6-9706-572aabd3454d"
      },
      "execution_count": 28,
      "outputs": [
        {
          "output_type": "stream",
          "name": "stdout",
          "text": [
            "1875/1875 [==============================] - 13s 7ms/step - loss: 0.1287 - accuracy: 0.9549 - precision: 0.8398 - recall: 0.6648\n"
          ]
        }
      ]
    },
    {
      "cell_type": "markdown",
      "source": [
        "And evaluate the model on the test set:"
      ],
      "metadata": {
        "id": "FsGagDEzC1tI"
      }
    },
    {
      "cell_type": "code",
      "source": [
        "# Evaluate the model\n",
        "conv_results = conv_model.evaluate(test_images, test_labels_bin, verbose=2)\n",
        "\n",
        "# Print the results\n",
        "print(f\"Test Accuracy: {conv_results[1]}\")\n",
        "print(f\"Test Precision: {conv_results[2]}\")\n",
        "print(f\"Test Recall: {conv_results[3]}\")"
      ],
      "metadata": {
        "colab": {
          "base_uri": "https://localhost:8080/"
        },
        "id": "rw_U3N7CDZ5q",
        "outputId": "33ba4cc3-5956-47eb-98a4-25846747013b"
      },
      "execution_count": 16,
      "outputs": [
        {
          "output_type": "stream",
          "name": "stdout",
          "text": [
            "313/313 - 2s - loss: 0.1169 - accuracy: 0.9599 - precision: 0.8515 - recall: 0.7125 - 2s/epoch - 5ms/step\n",
            "Test Accuracy: 0.9599000215530396\n",
            "Test Precision: 0.8515337705612183\n",
            "Test Recall: 0.7125256657600403\n"
          ]
        }
      ]
    },
    {
      "cell_type": "code",
      "source": [
        "test_images_8 = test_images[test_labels == 8]\n",
        "test_images_other = test_images[test_labels != 8]"
      ],
      "metadata": {
        "id": "fsqjMM-wGgwf"
      },
      "execution_count": 17,
      "outputs": []
    },
    {
      "cell_type": "code",
      "source": [
        "n_images = 9"
      ],
      "metadata": {
        "id": "xZwmywWqHZac"
      },
      "execution_count": 18,
      "outputs": []
    },
    {
      "cell_type": "code",
      "execution_count": 19,
      "metadata": {
        "colab": {
          "base_uri": "https://localhost:8080/",
          "height": 194
        },
        "id": "NdFUVhf5xQf8",
        "outputId": "3157ab3d-d54d-423e-b851-76bac26947c2"
      },
      "outputs": [
        {
          "output_type": "stream",
          "name": "stdout",
          "text": [
            "1/1 [==============================] - 0s 130ms/step\n"
          ]
        },
        {
          "output_type": "display_data",
          "data": {
            "text/plain": [
              "<Figure size 1200x200 with 9 Axes>"
            ],
            "image/png": "[encoded data removed]"
          },
          "metadata": {}
        }
      ],
      "source": [
        "images_to_plot = test_images_8[:n_images]\n",
        "predictions = conv_model.predict(images_to_plot)\n",
        "titles = [f\"{prob[0]:.4f}\" for prob in predictions.tolist()]\n",
        "\n",
        "\n",
        "plot_image_subplots(images_to_plot, titles=titles, ncols = n_images, nrows = 1, figsize_ver = 2)\n"
      ]
    },
    {
      "cell_type": "code",
      "execution_count": 20,
      "metadata": {
        "colab": {
          "base_uri": "https://localhost:8080/",
          "height": 194
        },
        "id": "UJME2bpexQf8",
        "outputId": "d4aa46bf-be40-41e6-d98b-bbffc8193083"
      },
      "outputs": [
        {
          "output_type": "stream",
          "name": "stdout",
          "text": [
            "1/1 [==============================] - 0s 47ms/step\n"
          ]
        },
        {
          "output_type": "display_data",
          "data": {
            "text/plain": [
              "<Figure size 1200x200 with 9 Axes>"
            ],
            "image/png": "[encoded data removed]"
          },
          "metadata": {}
        }
      ],
      "source": [
        "images_to_plot = test_images_other[:n_images]\n",
        "predictions = conv_model.predict(images_to_plot)\n",
        "titles = [f\"{prob[0]:.4f}\" for prob in predictions.tolist()]\n",
        "\n",
        "\n",
        "plot_image_subplots(images_to_plot, titles=titles, ncols = n_images, nrows = 1, figsize_ver = 2)\n"
      ]
    },
    {
      "cell_type": "code",
      "execution_count": 21,
      "metadata": {
        "colab": {
          "base_uri": "https://localhost:8080/"
        },
        "id": "h0fA7LZwxQf9",
        "outputId": "121ea97a-6e84-4191-aed8-9811b6e92596"
      },
      "outputs": [
        {
          "output_type": "execute_result",
          "data": {
            "text/plain": [
              "(3, 3, 1, 1)"
            ]
          },
          "metadata": {},
          "execution_count": 21
        }
      ],
      "source": [
        "conv_layer = conv_model.layers[0]\n",
        "kernel_weights, bias = conv_layer.get_weights()\n",
        "kernel_weights.shape"
      ]
    },
    {
      "cell_type": "code",
      "execution_count": 22,
      "metadata": {
        "colab": {
          "base_uri": "https://localhost:8080/",
          "height": 328
        },
        "id": "aZzXHAhexQf9",
        "outputId": "62fd7679-c003-485e-be05-dd149ce50704"
      },
      "outputs": [
        {
          "output_type": "display_data",
          "data": {
            "text/plain": [
              "<Figure size 1200x300 with 2 Axes>"
            ],
            "image/png": "[encoded data removed]"
          },
          "metadata": {}
        }
      ],
      "source": [
        "conv_filter = kernel_weights[:, :, 0, 0]\n",
        "plot_heatmaps([conv_filter], ncols=1)"
      ]
    },
    {
      "cell_type": "markdown",
      "source": [],
      "metadata": {
        "id": "Jo2FEA8BJrKg"
      }
    },
    {
      "cell_type": "code",
      "execution_count": 23,
      "metadata": {
        "colab": {
          "base_uri": "https://localhost:8080/",
          "height": 153
        },
        "id": "GnnixE5txQf9",
        "outputId": "9bd9af68-6063-4e0e-da8d-d6d2ea8541fc"
      },
      "outputs": [
        {
          "output_type": "display_data",
          "data": {
            "text/plain": [
              "<Figure size 1200x200 with 9 Axes>"
            ],
            "image/png": "[encoded data removed]"
          },
          "metadata": {}
        }
      ],
      "source": [
        "n_images = 9\n",
        "images_to_plot = np.array([convolve(test_images_8[i][:, :, 0], conv_filter) for i in range(n_images)])\n",
        "\n",
        "plot_image_subplots(images_to_plot, ncols = n_images, nrows = 1, figsize_ver = 2)"
      ]
    },
    {
      "cell_type": "code",
      "source": [
        "n_images = 9\n",
        "images_to_plot = np.array([convolve(test_images_other[i][:, :, 0], conv_filter) for i in range(n_images)])\n",
        "\n",
        "plot_image_subplots(images_to_plot, ncols = n_images, nrows = 1, figsize_ver = 2)"
      ],
      "metadata": {
        "colab": {
          "base_uri": "https://localhost:8080/",
          "height": 153
        },
        "id": "hJY1h7RhJPe2",
        "outputId": "1d1900b6-0da1-45b2-ee74-d37a755016f6"
      },
      "execution_count": 24,
      "outputs": [
        {
          "output_type": "display_data",
          "data": {
            "text/plain": [
              "<Figure size 1200x200 with 9 Axes>"
            ],
            "image/png": "[encoded data removed]"
          },
          "metadata": {}
        }
      ]
    },
    {
      "cell_type": "code",
      "source": [],
      "metadata": {
        "id": "T36as5yCLTqD"
      },
      "execution_count": 24,
      "outputs": []
    },
    {
      "cell_type": "markdown",
      "source": [
        "base"
      ],
      "metadata": {
        "id": "Ln0-EuPCLcxo"
      }
    },
    {
      "cell_type": "code",
      "source": [
        "# Define the base model\n",
        "base_model = models.Sequential([\n",
        "    layers.InputLayer((28, 28, 1)),\n",
        "    # layers.Conv2D(1, (3, 3)), # Skip the convolutional layer\n",
        "    layers.Flatten(),\n",
        "    layers.Dense(1, activation='sigmoid')\n",
        "])\n"
      ],
      "metadata": {
        "id": "BwEretwwLeJD"
      },
      "execution_count": 25,
      "outputs": []
    },
    {
      "cell_type": "code",
      "source": [
        "base_model.summary()"
      ],
      "metadata": {
        "colab": {
          "base_uri": "https://localhost:8080/"
        },
        "id": "DQwyP6SoMJBe",
        "outputId": "dbf9565c-756e-44c2-997a-09d29a1bc7cc"
      },
      "execution_count": 26,
      "outputs": [
        {
          "output_type": "stream",
          "name": "stdout",
          "text": [
            "Model: \"sequential_1\"\n",
            "_________________________________________________________________\n",
            " Layer (type)                Output Shape              Param #   \n",
            "=================================================================\n",
            " flatten_1 (Flatten)         (None, 784)               0         \n",
            "                                                                 \n",
            " dense_1 (Dense)             (None, 1)                 785       \n",
            "                                                                 \n",
            "=================================================================\n",
            "Total params: 785 (3.07 KB)\n",
            "Trainable params: 785 (3.07 KB)\n",
            "Non-trainable params: 0 (0.00 Byte)\n",
            "_________________________________________________________________\n"
          ]
        }
      ]
    },
    {
      "cell_type": "code",
      "source": [
        "# Compile the model\n",
        "base_model.compile(optimizer=\"sgd\",\n",
        "              loss=\"binary_crossentropy\",\n",
        "              metrics=[\"accuracy\", 'Precision', 'Recall'])\n",
        "\n",
        "# Train the model\n",
        "base_history = base_model.fit(train_images, train_labels_bin, epochs=1)\n",
        "\n",
        "# Evaluate the model\n",
        "base_results = base_model.evaluate(test_images, test_labels_bin, verbose=2)\n",
        "\n"
      ],
      "metadata": {
        "colab": {
          "base_uri": "https://localhost:8080/"
        },
        "id": "8NwHMGSrMN4C",
        "outputId": "0f2b0565-5c5c-4dcb-d8db-2b922a1a6535"
      },
      "execution_count": 35,
      "outputs": [
        {
          "output_type": "stream",
          "name": "stdout",
          "text": [
            "1875/1875 [==============================] - 4s 2ms/step - loss: 0.1839 - accuracy: 0.9407 - precision: 0.8160 - recall: 0.5056\n",
            "313/313 - 1s - loss: 0.1703 - accuracy: 0.9423 - precision: 0.8003 - recall: 0.5431 - 634ms/epoch - 2ms/step\n"
          ]
        }
      ]
    },
    {
      "cell_type": "code",
      "source": [],
      "metadata": {
        "id": "nIxtvLseRErQ"
      },
      "execution_count": null,
      "outputs": []
    },
    {
      "cell_type": "code",
      "source": [
        "conv_train = {el[0]: el[1][0] for el in conv_history.history.items()}\n",
        "base_train = {el[0]: el[1][0] for el in base_history.history.items()}\n",
        "eval_keys = list(conv_train.keys())"
      ],
      "metadata": {
        "id": "Gz6JNX5NMasb"
      },
      "execution_count": 78,
      "outputs": []
    },
    {
      "cell_type": "code",
      "source": [
        "conv_test = {eval_keys[i]: conv_results[i] for i in range(4)}\n",
        "base_test = {eval_keys[i]: base_results[i] for i in range(4)}"
      ],
      "metadata": {
        "id": "Gpje0qIgYYe5"
      },
      "execution_count": 79,
      "outputs": []
    },
    {
      "cell_type": "code",
      "source": [
        "pd.DataFrame.from_records([conv_train, conv_test, base_train, base_test], index = [\"Conv Model Train\", \"Conv Model Test\", \"Base Model Train\", \"Base Model Test\"])\n",
        "\n"
      ],
      "metadata": {
        "colab": {
          "base_uri": "https://localhost:8080/",
          "height": 175
        },
        "id": "KXwD_64TSEIa",
        "outputId": "0965c21e-4f4e-4316-c3d2-cff2e33ac6fd"
      },
      "execution_count": 82,
      "outputs": [
        {
          "output_type": "execute_result",
          "data": {
            "text/plain": [
              "                      loss  accuracy  precision    recall\n",
              "Conv Model Train  0.128693  0.954950   0.839810  0.664844\n",
              "Conv Model Test   0.116898  0.959900   0.851534  0.712526\n",
              "Base Model Train  0.183894  0.940667   0.816000  0.505555\n",
              "Base Model Test   0.170305  0.942300   0.800303  0.543121"
            ],
            "text/html": [
              "\n",
              "  <div id=\"df-43af787d-4fdc-4e37-9ca8-01e253691c26\" class=\"colab-df-container\">\n",
              "    <div>\n",
              "<style scoped>\n",
              "    .dataframe tbody tr th:only-of-type {\n",
              "        vertical-align: middle;\n",
              "    }\n",
              "\n",
              "    .dataframe tbody tr th {\n",
              "        vertical-align: top;\n",
              "    }\n",
              "\n",
              "    .dataframe thead th {\n",
              "        text-align: right;\n",
              "    }\n",
              "</style>\n",
              "<table border=\"1\" class=\"dataframe\">\n",
              "  <thead>\n",
              "    <tr style=\"text-align: right;\">\n",
              "      <th></th>\n",
              "      <th>loss</th>\n",
              "      <th>accuracy</th>\n",
              "      <th>precision</th>\n",
              "      <th>recall</th>\n",
              "    </tr>\n",
              "  </thead>\n",
              "  <tbody>\n",
              "    <tr>\n",
              "      <th>Conv Model Train</th>\n",
              "      <td>0.128693</td>\n",
              "      <td>0.954950</td>\n",
              "      <td>0.839810</td>\n",
              "      <td>0.664844</td>\n",
              "    </tr>\n",
              "    <tr>\n",
              "      <th>Conv Model Test</th>\n",
              "      <td>0.116898</td>\n",
              "      <td>0.959900</td>\n",
              "      <td>0.851534</td>\n",
              "      <td>0.712526</td>\n",
              "    </tr>\n",
              "    <tr>\n",
              "      <th>Base Model Train</th>\n",
              "      <td>0.183894</td>\n",
              "      <td>0.940667</td>\n",
              "      <td>0.816000</td>\n",
              "      <td>0.505555</td>\n",
              "    </tr>\n",
              "    <tr>\n",
              "      <th>Base Model Test</th>\n",
              "      <td>0.170305</td>\n",
              "      <td>0.942300</td>\n",
              "      <td>0.800303</td>\n",
              "      <td>0.543121</td>\n",
              "    </tr>\n",
              "  </tbody>\n",
              "</table>\n",
              "</div>\n",
              "    <div class=\"colab-df-buttons\">\n",
              "\n",
              "  <div class=\"colab-df-container\">\n",
              "    <button class=\"colab-df-convert\" onclick=\"convertToInteractive('df-43af787d-4fdc-4e37-9ca8-01e253691c26')\"\n",
              "            title=\"Convert this dataframe to an interactive table.\"\n",
              "            style=\"display:none;\">\n",
              "\n",
              "  <svg xmlns=\"http://www.w3.org/2000/svg\" height=\"24px\" viewBox=\"0 -960 960 960\">\n",
              "    <path d=\"M120-120v-720h720v720H120Zm60-500h600v-160H180v160Zm220 220h160v-160H400v160Zm0 220h160v-160H400v160ZM180-400h160v-160H180v160Zm440 0h160v-160H620v160ZM180-180h160v-160H180v160Zm440 0h160v-160H620v160Z\"/>\n",
              "  </svg>\n",
              "    </button>\n",
              "\n",
              "  <style>\n",
              "    .colab-df-container {\n",
              "      display:flex;\n",
              "      gap: 12px;\n",
              "    }\n",
              "\n",
              "    .colab-df-convert {\n",
              "      background-color: #E8F0FE;\n",
              "      border: none;\n",
              "      border-radius: 50%;\n",
              "      cursor: pointer;\n",
              "      display: none;\n",
              "      fill: #1967D2;\n",
              "      height: 32px;\n",
              "      padding: 0 0 0 0;\n",
              "      width: 32px;\n",
              "    }\n",
              "\n",
              "    .colab-df-convert:hover {\n",
              "      background-color: #E2EBFA;\n",
              "      box-shadow: 0px 1px 2px rgba(60, 64, 67, 0.3), 0px 1px 3px 1px rgba(60, 64, 67, 0.15);\n",
              "      fill: #174EA6;\n",
              "    }\n",
              "\n",
              "    .colab-df-buttons div {\n",
              "      margin-bottom: 4px;\n",
              "    }\n",
              "\n",
              "    [theme=dark] .colab-df-convert {\n",
              "      background-color: #3B4455;\n",
              "      fill: #D2E3FC;\n",
              "    }\n",
              "\n",
              "    [theme=dark] .colab-df-convert:hover {\n",
              "      background-color: #434B5C;\n",
              "      box-shadow: 0px 1px 3px 1px rgba(0, 0, 0, 0.15);\n",
              "      filter: drop-shadow(0px 1px 2px rgba(0, 0, 0, 0.3));\n",
              "      fill: #FFFFFF;\n",
              "    }\n",
              "  </style>\n",
              "\n",
              "    <script>\n",
              "      const buttonEl =\n",
              "        document.querySelector('#df-43af787d-4fdc-4e37-9ca8-01e253691c26 button.colab-df-convert');\n",
              "      buttonEl.style.display =\n",
              "        google.colab.kernel.accessAllowed ? 'block' : 'none';\n",
              "\n",
              "      async function convertToInteractive(key) {\n",
              "        const element = document.querySelector('#df-43af787d-4fdc-4e37-9ca8-01e253691c26');\n",
              "        const dataTable =\n",
              "          await google.colab.kernel.invokeFunction('convertToInteractive',\n",
              "                                                    [key], {});\n",
              "        if (!dataTable) return;\n",
              "\n",
              "        const docLinkHtml = 'Like what you see? Visit the ' +\n",
              "          '<a target=\"_blank\" href=https://colab.research.google.com/notebooks/data_table.ipynb>data table notebook</a>'\n",
              "          + ' to learn more about interactive tables.';\n",
              "        element.innerHTML = '';\n",
              "        dataTable['output_type'] = 'display_data';\n",
              "        await google.colab.output.renderOutput(dataTable, element);\n",
              "        const docLink = document.createElement('div');\n",
              "        docLink.innerHTML = docLinkHtml;\n",
              "        element.appendChild(docLink);\n",
              "      }\n",
              "    </script>\n",
              "  </div>\n",
              "\n",
              "\n",
              "<div id=\"df-c38e1597-9b45-4280-806a-5fefb5b71585\">\n",
              "  <button class=\"colab-df-quickchart\" onclick=\"quickchart('df-c38e1597-9b45-4280-806a-5fefb5b71585')\"\n",
              "            title=\"Suggest charts\"\n",
              "            style=\"display:none;\">\n",
              "\n",
              "<svg xmlns=\"http://www.w3.org/2000/svg\" height=\"24px\"viewBox=\"0 0 24 24\"\n",
              "     width=\"24px\">\n",
              "    <g>\n",
              "        <path d=\"M19 3H5c-1.1 0-2 .9-2 2v14c0 1.1.9 2 2 2h14c1.1 0 2-.9 2-2V5c0-1.1-.9-2-2-2zM9 17H7v-7h2v7zm4 0h-2V7h2v10zm4 0h-2v-4h2v4z\"/>\n",
              "    </g>\n",
              "</svg>\n",
              "  </button>\n",
              "\n",
              "<style>\n",
              "  .colab-df-quickchart {\n",
              "      --bg-color: #E8F0FE;\n",
              "      --fill-color: #1967D2;\n",
              "      --hover-bg-color: #E2EBFA;\n",
              "      --hover-fill-color: #174EA6;\n",
              "      --disabled-fill-color: #AAA;\n",
              "      --disabled-bg-color: #DDD;\n",
              "  }\n",
              "\n",
              "  [theme=dark] .colab-df-quickchart {\n",
              "      --bg-color: #3B4455;\n",
              "      --fill-color: #D2E3FC;\n",
              "      --hover-bg-color: #434B5C;\n",
              "      --hover-fill-color: #FFFFFF;\n",
              "      --disabled-bg-color: #3B4455;\n",
              "      --disabled-fill-color: #666;\n",
              "  }\n",
              "\n",
              "  .colab-df-quickchart {\n",
              "    background-color: var(--bg-color);\n",
              "    border: none;\n",
              "    border-radius: 50%;\n",
              "    cursor: pointer;\n",
              "    display: none;\n",
              "    fill: var(--fill-color);\n",
              "    height: 32px;\n",
              "    padding: 0;\n",
              "    width: 32px;\n",
              "  }\n",
              "\n",
              "  .colab-df-quickchart:hover {\n",
              "    background-color: var(--hover-bg-color);\n",
              "    box-shadow: 0 1px 2px rgba(60, 64, 67, 0.3), 0 1px 3px 1px rgba(60, 64, 67, 0.15);\n",
              "    fill: var(--button-hover-fill-color);\n",
              "  }\n",
              "\n",
              "  .colab-df-quickchart-complete:disabled,\n",
              "  .colab-df-quickchart-complete:disabled:hover {\n",
              "    background-color: var(--disabled-bg-color);\n",
              "    fill: var(--disabled-fill-color);\n",
              "    box-shadow: none;\n",
              "  }\n",
              "\n",
              "  .colab-df-spinner {\n",
              "    border: 2px solid var(--fill-color);\n",
              "    border-color: transparent;\n",
              "    border-bottom-color: var(--fill-color);\n",
              "    animation:\n",
              "      spin 1s steps(1) infinite;\n",
              "  }\n",
              "\n",
              "  @keyframes spin {\n",
              "    0% {\n",
              "      border-color: transparent;\n",
              "      border-bottom-color: var(--fill-color);\n",
              "      border-left-color: var(--fill-color);\n",
              "    }\n",
              "    20% {\n",
              "      border-color: transparent;\n",
              "      border-left-color: var(--fill-color);\n",
              "      border-top-color: var(--fill-color);\n",
              "    }\n",
              "    30% {\n",
              "      border-color: transparent;\n",
              "      border-left-color: var(--fill-color);\n",
              "      border-top-color: var(--fill-color);\n",
              "      border-right-color: var(--fill-color);\n",
              "    }\n",
              "    40% {\n",
              "      border-color: transparent;\n",
              "      border-right-color: var(--fill-color);\n",
              "      border-top-color: var(--fill-color);\n",
              "    }\n",
              "    60% {\n",
              "      border-color: transparent;\n",
              "      border-right-color: var(--fill-color);\n",
              "    }\n",
              "    80% {\n",
              "      border-color: transparent;\n",
              "      border-right-color: var(--fill-color);\n",
              "      border-bottom-color: var(--fill-color);\n",
              "    }\n",
              "    90% {\n",
              "      border-color: transparent;\n",
              "      border-bottom-color: var(--fill-color);\n",
              "    }\n",
              "  }\n",
              "</style>\n",
              "\n",
              "  <script>\n",
              "    async function quickchart(key) {\n",
              "      const quickchartButtonEl =\n",
              "        document.querySelector('#' + key + ' button');\n",
              "      quickchartButtonEl.disabled = true;  // To prevent multiple clicks.\n",
              "      quickchartButtonEl.classList.add('colab-df-spinner');\n",
              "      try {\n",
              "        const charts = await google.colab.kernel.invokeFunction(\n",
              "            'suggestCharts', [key], {});\n",
              "      } catch (error) {\n",
              "        console.error('Error during call to suggestCharts:', error);\n",
              "      }\n",
              "      quickchartButtonEl.classList.remove('colab-df-spinner');\n",
              "      quickchartButtonEl.classList.add('colab-df-quickchart-complete');\n",
              "    }\n",
              "    (() => {\n",
              "      let quickchartButtonEl =\n",
              "        document.querySelector('#df-c38e1597-9b45-4280-806a-5fefb5b71585 button');\n",
              "      quickchartButtonEl.style.display =\n",
              "        google.colab.kernel.accessAllowed ? 'block' : 'none';\n",
              "    })();\n",
              "  </script>\n",
              "</div>\n",
              "\n",
              "    </div>\n",
              "  </div>\n"
            ],
            "application/vnd.google.colaboratory.intrinsic+json": {
              "type": "dataframe",
              "summary": "{\n  \"name\": \"pd\",\n  \"rows\": 4,\n  \"fields\": [\n    {\n      \"column\": \"loss\",\n      \"properties\": {\n        \"dtype\": \"number\",\n        \"std\": 0.032201765147940944,\n        \"min\": 0.1168980821967125,\n        \"max\": 0.1838942915201187,\n        \"num_unique_values\": 4,\n        \"samples\": [\n          0.1168980821967125,\n          0.17030547559261322,\n          0.12869273126125336\n        ],\n        \"semantic_type\": \"\",\n        \"description\": \"\"\n      }\n    },\n    {\n      \"column\": \"accuracy\",\n      \"properties\": {\n        \"dtype\": \"number\",\n        \"std\": 0.009446720497129352,\n        \"min\": 0.940666675567627,\n        \"max\": 0.9599000215530396,\n        \"num_unique_values\": 4,\n        \"samples\": [\n          0.9599000215530396,\n          0.942300021648407,\n          0.9549499750137329\n        ],\n        \"semantic_type\": \"\",\n        \"description\": \"\"\n      }\n    },\n    {\n      \"column\": \"precision\",\n      \"properties\": {\n        \"dtype\": \"number\",\n        \"std\": 0.02309202204901007,\n        \"min\": 0.8003025650978088,\n        \"max\": 0.8515337705612183,\n        \"num_unique_values\": 4,\n        \"samples\": [\n          0.8515337705612183,\n          0.8003025650978088,\n          0.8398100137710571\n        ],\n        \"semantic_type\": \"\",\n        \"description\": \"\"\n      }\n    },\n    {\n      \"column\": \"recall\",\n      \"properties\": {\n        \"dtype\": \"number\",\n        \"std\": 0.09806845753802346,\n        \"min\": 0.5055546164512634,\n        \"max\": 0.7125256657600403,\n        \"num_unique_values\": 4,\n        \"samples\": [\n          0.7125256657600403,\n          0.5431211590766907,\n          0.6648436188697815\n        ],\n        \"semantic_type\": \"\",\n        \"description\": \"\"\n      }\n    }\n  ]\n}"
            }
          },
          "metadata": {},
          "execution_count": 82
        }
      ]
    },
    {
      "cell_type": "code",
      "source": [],
      "metadata": {
        "id": "f1h8KmTmVOMA"
      },
      "execution_count": null,
      "outputs": []
    }
  ],
  "metadata": {
    "kernelspec": {
      "display_name": "base",
      "language": "python",
      "name": "python3"
    },
    "language_info": {
      "codemirror_mode": {
        "name": "ipython",
        "version": 3
      },
      "file_extension": ".py",
      "mimetype": "text/x-python",
      "name": "python",
      "nbconvert_exporter": "python",
      "pygments_lexer": "ipython3",
      "version": "3.9.15"
    },
    "colab": {
      "provenance": [],
      "include_colab_link": true
    }
  },
  "nbformat": 4,
  "nbformat_minor": 0
}