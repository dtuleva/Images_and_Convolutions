{
 "cells": [
  {
   "cell_type": "code",
   "execution_count": 1,
   "metadata": {},
   "outputs": [],
   "source": [
    "import numpy as np\n",
    "import matplotlib.pyplot as plt\n",
    "# import cv2 as cv\n",
    "import tensorflow as tf\n",
    "\n",
    "from tensorflow.keras.datasets import mnist\n",
    "from tensorflow.keras import layers, models"
   ]
  },
  {
   "cell_type": "code",
   "execution_count": 14,
   "metadata": {},
   "outputs": [],
   "source": [
    "# import helper_functions"
   ]
  },
  {
   "cell_type": "markdown",
   "metadata": {},
   "source": [
    "# Images and Convolutions\n",
    "### The simple, complex and convoluted notions behind computer vision\n",
    "## Part 2 - Convolutional neural networks"
   ]
  },
  {
   "cell_type": "markdown",
   "metadata": {},
   "source": [
    "#### Helper functions"
   ]
  },
  {
   "cell_type": "code",
   "execution_count": null,
   "metadata": {},
   "outputs": [],
   "source": [
    "def plot_image_subplots(\n",
    "        images, \n",
    "        titles=None, \n",
    "        subplot_kwargs=None, \n",
    "        nrows=1, \n",
    "        ncols=3, \n",
    "        figsize_hor=12, \n",
    "        figsize_ver=6, \n",
    "        no_ticks=True\n",
    "    ):\n",
    "    \"\"\"\n",
    "    Plots a grid of images with titles, allowing for different keyword arguments for each subplot.\n",
    "\n",
    "    Example usage:\n",
    "    plot_image_subplots(\n",
    "        images=[image_1, image_2, image_3],\n",
    "        titles=[\"Title 1\", \"Title 2\", \"Title 3\"],\n",
    "        plot_kwargs=[\n",
    "            {\"cmap\": \"gray\"},\n",
    "            {\"cmap\": \"Reds_r\", \"vmin\": 0, \"vmax\": 1},\n",
    "            {\"cmap\": \"Blues_r\", \"vmin\": -1, \"vmax\": 1}\n",
    "        ],\n",
    "        nrows=1,\n",
    "        ncols=3,\n",
    "        figsize_hor=15,\n",
    "        figsize_ver=5\n",
    "    )\n",
    "    \"\"\"\n",
    "    if titles is None:\n",
    "        titles = [\"\" for _ in images]\n",
    "    else:\n",
    "        assert len(images) == len(titles), \"Number of images not equal to number of titles\"\n",
    "\n",
    "    if subplot_kwargs is None:\n",
    "        subplot_kwargs = [{} for _ in images]\n",
    "    else:\n",
    "        assert len(images) == len(subplot_kwargs), \"Number of images not equal to number of plot_kwargs\"\n",
    "\n",
    "    for kwargs in subplot_kwargs:\n",
    "        if \"cmap\" not in kwargs:\n",
    "            kwargs[\"cmap\"] = \"gray\"\n",
    "\n",
    "    fig, axs = plt.subplots(nrows, ncols, figsize=(figsize_hor, figsize_ver))\n",
    "    axs = axs.flatten()\n",
    "\n",
    "    for i, (image, title) in enumerate(zip(images, titles)):\n",
    "        axs[i].imshow(image, **subplot_kwargs[i])\n",
    "        axs[i].set_title(title)\n",
    "\n",
    "    if no_ticks:\n",
    "        plt.setp(axs, xticks=[], yticks=[])\n",
    "\n",
    "    plt.tight_layout()\n",
    "    plt.show()\n"
   ]
  },
  {
   "cell_type": "code",
   "execution_count": null,
   "metadata": {},
   "outputs": [],
   "source": [
    "\n",
    "def limit_range(pixel_value, min_value = 0, max_value = 1): \n",
    "    \"\"\"\n",
    "    Function to keep the range of pixel values; (0, 1) by default\n",
    "    \"\"\" \n",
    "    if pixel_value < min_value:\n",
    "        pixel_value = min_value\n",
    "    elif pixel_value > max_value:\n",
    "        pixel_value = max_value\n",
    "    return pixel_value\n",
    "\n",
    "limit_range = np.vectorize(limit_range)"
   ]
  },
  {
   "cell_type": "code",
   "execution_count": null,
   "metadata": {},
   "outputs": [],
   "source": [
    "def convolve_3_channel_image(image, filter):\n",
    "    \"\"\"\n",
    "    Applies scipy.ndimage.convolve(image_channel, filter) separately on each channel of the image and\n",
    "    returns the resulting convolutions stacked to resemble a color image.\n",
    "    \"\"\"\n",
    "    return np.dstack([convolve(image[:, :, i], filter) for i in range(3)])"
   ]
  },
  {
   "cell_type": "code",
   "execution_count": null,
   "metadata": {},
   "outputs": [],
   "source": [
    "def plot_convolutions(image, filters, titles = None, subplot_kwargs = None, single_channel = True, **plot_kwargs):\n",
    "    \"\"\"\n",
    "    Plot images resulting from convolution with given filters.\n",
    "    \"\"\"\n",
    "    if single_channel:\n",
    "        conv_results = [convolve(image, filter) for filter in filters]\n",
    "    else:\n",
    "        conv_results = [convolve_3_channel_image(image, filter) for filter in filters]\n",
    "        \n",
    "\n",
    "    plot_image_subplots(conv_results, titles, subplot_kwargs, **plot_kwargs)"
   ]
  },
  {
   "cell_type": "code",
   "execution_count": null,
   "metadata": {},
   "outputs": [],
   "source": [
    "def plot_heatmaps(arrays, titles = None, nrows = 1, ncols = 2, figsize_hor = 12, figsize_ver = 3, cmap_limit = 0.1):\n",
    "    \"\"\"\n",
    "    Plots a heatmap of each array with a common colorbar. \n",
    "    Heatmaps are zero-centered, blue indicating negative values, red - positive.\n",
    "\n",
    "    \"\"\"\n",
    "    if titles is None:\n",
    "        titles = [\"\" for _ in arrays]\n",
    "    else:\n",
    "        assert len(arrays) == len(titles), \"Number of arrays not equal to number of titles\"\n",
    "\n",
    "    # Create the figure and axes\n",
    "    fig, axs = plt.subplots(nrows, ncols, figsize = (figsize_hor, figsize_ver), layout = \"compressed\")\n",
    "    if len(arrays) > 1:\n",
    "        axs = axs.flatten()\n",
    "    else:\n",
    "        axs = [axs]\n",
    "\n",
    "    # Find the global min and max values across all data for common scaling\n",
    "    global_min = min(data.min() for data in arrays)\n",
    "    global_max = max(data.max() for data in arrays)\n",
    "\n",
    "    global_abs = max([abs(global_min), global_max])\n",
    "\n",
    "    # Create a common normalization\n",
    "    norm = TwoSlopeNorm(vmin = - cmap_limit - global_abs, vmax = cmap_limit + global_abs, vcenter = 0)\n",
    "\n",
    "    # Plot each data array\n",
    "    for ax, array, title in zip(axs, arrays, titles):\n",
    "        cax = ax.imshow(array, cmap = \"seismic\", norm = norm)\n",
    "        ax.set_title(title)\n",
    "    \n",
    "    # Add a single colorbar\n",
    "    cbar = fig.colorbar(cax, ax=axs[:len(arrays)])\n",
    "    \n",
    "    # Remove axis ticks\n",
    "    plt.setp(axs, xticks=[], yticks=[])\n",
    "    \n",
    " \n",
    "    plt.show()\n"
   ]
  },
  {
   "cell_type": "markdown",
   "metadata": {},
   "source": [
    "Our cat ir rather unfit for the purpose of demonstrating how convolutional neural networks work. That is we would need vastly greater number of cats to make it work. Further more, recognizing a cat is a hard task - there are a lot of other things with eyes, nose and fur, so we would need wide and deep neural network and a lot of images, time, knowledge and skill to train it (and we have neither of those). So we will take the simplest image dataset in existense - MNIST, which happens to be readily available in Tensorflow Datasets. It consists of small grayscale images of handwritten digits, annotated which digit it is supposed to be.\n",
    "We load our dataset, normalize pixel values and add an extra dimension, because expected shape for an image is (w,h, ch)."
   ]
  },
  {
   "cell_type": "code",
   "execution_count": 2,
   "metadata": {},
   "outputs": [],
   "source": [
    "# Load and preprocess the MNIST dataset\n",
    "(train_images, train_labels), (test_images, test_labels) = mnist.load_data()\n",
    "\n",
    "# Normalize the images to the range [0, 1]\n",
    "train_images = train_images / 255.0\n",
    "test_images = test_images / 255.0\n",
    "\n"
   ]
  },
  {
   "cell_type": "code",
   "execution_count": 3,
   "metadata": {},
   "outputs": [
    {
     "data": {
      "text/plain": [
       "(60000, 28, 28)"
      ]
     },
     "execution_count": 3,
     "metadata": {},
     "output_type": "execute_result"
    }
   ],
   "source": [
    "train_images.shape"
   ]
  },
  {
   "cell_type": "code",
   "execution_count": 4,
   "metadata": {},
   "outputs": [
    {
     "data": {
      "text/plain": [
       "<matplotlib.image.AxesImage at 0x19d5e2ef670>"
      ]
     },
     "execution_count": 4,
     "metadata": {},
     "output_type": "execute_result"
    },
    {
     "data": {
      "image/png": "[encoded data removed]",
      "text/plain": [
       "<Figure size 640x480 with 1 Axes>"
      ]
     },
     "metadata": {},
     "output_type": "display_data"
    }
   ],
   "source": [
    "plt.imshow(train_images[0], cmap=\"gray\")"
   ]
  },
  {
   "cell_type": "code",
   "execution_count": 5,
   "metadata": {},
   "outputs": [],
   "source": [
    "# Add a channels dimension\n",
    "train_images = train_images[..., tf.newaxis]\n",
    "test_images = test_images[..., tf.newaxis]"
   ]
  },
  {
   "cell_type": "code",
   "execution_count": 6,
   "metadata": {},
   "outputs": [
    {
     "ename": "",
     "evalue": "",
     "output_type": "error",
     "traceback": [
      "\u001b[1;31mThe Kernel crashed while executing code in the current cell or a previous cell. \n",
      "\u001b[1;31mPlease review the code in the cell(s) to identify a possible cause of the failure. \n",
      "\u001b[1;31mClick <a href='https://aka.ms/vscodeJupyterKernelCrash'>here</a> for more info. \n",
      "\u001b[1;31mView Jupyter <a href='command:jupyter.viewOutput'>log</a> for further details."
     ]
    }
   ],
   "source": [
    "\n",
    "# Convert labels to binary: 1 for class '8', 0 for others\n",
    "train_labels = (train_labels == 8).astype(int)\n",
    "test_labels = (test_labels == 8).astype(int)"
   ]
  },
  {
   "cell_type": "code",
   "execution_count": 7,
   "metadata": {},
   "outputs": [],
   "source": [
    "# Define the CNN model\n",
    "model = models.Sequential([\n",
    "    layers.Conv2D(1, (3, 3), activation='relu', input_shape=(28, 28, 1)), # Single convolutional layer with one 3 x 3 filter\n",
    "    layers.Flatten(),\n",
    "    layers.Dense(1, activation='sigmoid')  # Single output neuron for binary classification\n",
    "])\n",
    "\n",
    "# Compile the model\n",
    "model.compile(optimizer='adam',\n",
    "              loss='binary_crossentropy',\n",
    "              metrics=['accuracy'])\n",
    "\n",
    "# Train the model\n",
    "model.fit(train_images, train_labels, epochs=1)\n",
    "\n",
    "# Evaluate the model\n",
    "test_loss, test_acc = model.evaluate(test_images, test_labels, verbose=2)\n",
    "print(f'\\nTest accuracy: {test_acc}')\n"
   ]
  },
  {
   "cell_type": "code",
   "execution_count": null,
   "metadata": {},
   "outputs": [],
   "source": [
    "test_images[0].shape"
   ]
  },
  {
   "cell_type": "code",
   "execution_count": null,
   "metadata": {},
   "outputs": [
    {
     "ename": "NameError",
     "evalue": "name 'model' is not defined",
     "output_type": "error",
     "traceback": [
      "\u001b[1;31m---------------------------------------------------------------------------\u001b[0m",
      "\u001b[1;31mNameError\u001b[0m                                 Traceback (most recent call last)",
      "Cell \u001b[1;32mIn[12], line 3\u001b[0m\n\u001b[0;32m      1\u001b[0m idx_to_plot \u001b[38;5;241m=\u001b[39m \u001b[38;5;28mrange\u001b[39m(\u001b[38;5;241m4\u001b[39m\u001b[38;5;241m*\u001b[39m\u001b[38;5;241m8\u001b[39m)\n\u001b[0;32m      2\u001b[0m images_to_plot \u001b[38;5;241m=\u001b[39m np\u001b[38;5;241m.\u001b[39marray([test_images[i] \u001b[38;5;28;01mfor\u001b[39;00m i \u001b[38;5;129;01min\u001b[39;00m idx_to_plot])\n\u001b[1;32m----> 3\u001b[0m predictions \u001b[38;5;241m=\u001b[39m \u001b[43mmodel\u001b[49m\u001b[38;5;241m.\u001b[39mpredict(images_to_plot)\n\u001b[0;32m      4\u001b[0m titles \u001b[38;5;241m=\u001b[39m [\u001b[38;5;124mf\u001b[39m\u001b[38;5;124m\"\u001b[39m\u001b[38;5;132;01m{\u001b[39;00mprob[\u001b[38;5;241m0\u001b[39m]\u001b[38;5;132;01m:\u001b[39;00m\u001b[38;5;124m.4f\u001b[39m\u001b[38;5;132;01m}\u001b[39;00m\u001b[38;5;124m\"\u001b[39m \u001b[38;5;28;01mfor\u001b[39;00m prob \u001b[38;5;129;01min\u001b[39;00m predictions\u001b[38;5;241m.\u001b[39mtolist()]\n",
      "\u001b[1;31mNameError\u001b[0m: name 'model' is not defined"
     ]
    }
   ],
   "source": [
    "idx_to_plot = range(4*8)\n",
    "images_to_plot = np.array([test_images[i] for i in idx_to_plot])\n",
    "predictions = model.predict(images_to_plot)\n",
    "titles = [f\"{prob[0]:.4f}\" for prob in predictions.tolist()]\n"
   ]
  },
  {
   "cell_type": "code",
   "execution_count": null,
   "metadata": {},
   "outputs": [
    {
     "ename": "NameError",
     "evalue": "name 'plot_image_subplots' is not defined",
     "output_type": "error",
     "traceback": [
      "\u001b[1;31m---------------------------------------------------------------------------\u001b[0m",
      "\u001b[1;31mNameError\u001b[0m                                 Traceback (most recent call last)",
      "Cell \u001b[1;32mIn[13], line 1\u001b[0m\n\u001b[1;32m----> 1\u001b[0m \u001b[43mplot_image_subplots\u001b[49m(images_to_plot, titles\u001b[38;5;241m=\u001b[39mtitles, nrows \u001b[38;5;241m=\u001b[39m \u001b[38;5;241m4\u001b[39m, ncols \u001b[38;5;241m=\u001b[39m \u001b[38;5;241m8\u001b[39m)\n",
      "\u001b[1;31mNameError\u001b[0m: name 'plot_image_subplots' is not defined"
     ]
    }
   ],
   "source": [
    "plot_image_subplots(images_to_plot, titles=titles, nrows = 4, ncols = 8)"
   ]
  },
  {
   "cell_type": "code",
   "execution_count": 1,
   "metadata": {},
   "outputs": [
    {
     "ename": "NameError",
     "evalue": "name 'model' is not defined",
     "output_type": "error",
     "traceback": [
      "\u001b[1;31m---------------------------------------------------------------------------\u001b[0m",
      "\u001b[1;31mNameError\u001b[0m                                 Traceback (most recent call last)",
      "Cell \u001b[1;32mIn[1], line 1\u001b[0m\n\u001b[1;32m----> 1\u001b[0m conv_layer \u001b[38;5;241m=\u001b[39m \u001b[43mmodel\u001b[49m\u001b[38;5;241m.\u001b[39mlayers[\u001b[38;5;241m0\u001b[39m]\n\u001b[0;32m      2\u001b[0m kernel_weights, bias \u001b[38;5;241m=\u001b[39m conv_layer\u001b[38;5;241m.\u001b[39mget_weights()\n\u001b[0;32m      3\u001b[0m kernel_weights\u001b[38;5;241m.\u001b[39mshape\n",
      "\u001b[1;31mNameError\u001b[0m: name 'model' is not defined"
     ]
    }
   ],
   "source": [
    "conv_layer = model.layers[0]\n",
    "kernel_weights, bias = conv_layer.get_weights()\n",
    "kernel_weights.shape"
   ]
  },
  {
   "cell_type": "code",
   "execution_count": null,
   "metadata": {},
   "outputs": [],
   "source": [
    "conv_filter = kernel_weights.reshape((3,3))\n",
    "plot_heatmaps([conv_filter], ncols=1)"
   ]
  },
  {
   "cell_type": "code",
   "execution_count": null,
   "metadata": {},
   "outputs": [],
   "source": [
    "images_to_plot = np.array([convolve(test_images[i], conv_filter) for i in idx_to_plot])"
   ]
  }
 ],
 "metadata": {
  "kernelspec": {
   "display_name": "base",
   "language": "python",
   "name": "python3"
  },
  "language_info": {
   "codemirror_mode": {
    "name": "ipython",
    "version": 3
   },
   "file_extension": ".py",
   "mimetype": "text/x-python",
   "name": "python",
   "nbconvert_exporter": "python",
   "pygments_lexer": "ipython3",
   "version": "3.9.15"
  }
 },
 "nbformat": 4,
 "nbformat_minor": 2
}
